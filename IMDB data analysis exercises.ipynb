﻿{
 "metadata": {
  "kernelspec": {
   "display_name": "Python 3",
   "language": "python",
   "name": "python3"
  },
  "language_info": {
   "codemirror_mode": {
    "name": "ipython",
    "version": 3
   },
   "file_extension": ".py",
   "mimetype": "text/x-python",
   "name": "python",
   "nbconvert_exporter": "python",
   "pygments_lexer": "ipython3",
   "version": "3.5.2"
  }
 },
 "nbformat": 4,
 "nbformat_minor": 0,
 "cells": [
  {
   "cell_type": "code",
   "source": "# This Python 3 environment comes with many helpful analytics libraries installed\n# It is defined by the kaggle/python docker image: https://github.com/kaggle/docker-python\n# For example, here's several helpful packages to load in \n\nimport unicodecsv\nimport os\nimport pandas as pd\nimport numpy as np\nimport seaborn as sns\nimport matplotlib.pyplot as plt\n\n# Input data files are available in the \"../input/\" directory.\n# For example, running this (by clicking run or pressing Shift+Enter) will list the files in the input directory\npath =\"../input\"\nos.chdir(path)\nfrom subprocess import check_output\nprint(check_output([\"ls\", \"../input\"]).decode(\"utf8\"))\n\n# Any results you write to the current directory are saved as output.",
   "execution_count": 3,
   "outputs": [
    {
     "name": "stdout",
     "output_type": "stream",
     "text": "movie_metadata.csv\n\n"
    }
   ],
   "metadata": {}
  },
  {
   "cell_type": "code",
   "source": "df=pd.read_csv(\"movie_metadata.csv\")\ndf.head()",
   "execution_count": 6,
   "outputs": [
    {
     "data": {
      "text/html": "<div>\n<table border=\"1\" class=\"dataframe\">\n  <thead>\n    <tr style=\"text-align: right;\">\n      <th></th>\n      <th>color</th>\n      <th>director_name</th>\n      <th>num_critic_for_reviews</th>\n      <th>duration</th>\n      <th>director_facebook_likes</th>\n      <th>actor_3_facebook_likes</th>\n      <th>actor_2_name</th>\n      <th>actor_1_facebook_likes</th>\n      <th>gross</th>\n      <th>genres</th>\n      <th>...</th>\n      <th>num_user_for_reviews</th>\n      <th>language</th>\n      <th>country</th>\n      <th>content_rating</th>\n      <th>budget</th>\n      <th>title_year</th>\n      <th>actor_2_facebook_likes</th>\n      <th>imdb_score</th>\n      <th>aspect_ratio</th>\n      <th>movie_facebook_likes</th>\n    </tr>\n  </thead>\n  <tbody>\n    <tr>\n      <th>0</th>\n      <td>Color</td>\n      <td>James Cameron</td>\n      <td>723.0</td>\n      <td>178.0</td>\n      <td>0.0</td>\n      <td>855.0</td>\n      <td>Joel David Moore</td>\n      <td>1000.0</td>\n      <td>760505847.0</td>\n      <td>Action|Adventure|Fantasy|Sci-Fi</td>\n      <td>...</td>\n      <td>3054.0</td>\n      <td>English</td>\n      <td>USA</td>\n      <td>PG-13</td>\n      <td>237000000.0</td>\n      <td>2009.0</td>\n      <td>936.0</td>\n      <td>7.9</td>\n      <td>1.78</td>\n      <td>33000</td>\n    </tr>\n    <tr>\n      <th>1</th>\n      <td>Color</td>\n      <td>Gore Verbinski</td>\n      <td>302.0</td>\n      <td>169.0</td>\n      <td>563.0</td>\n      <td>1000.0</td>\n      <td>Orlando Bloom</td>\n      <td>40000.0</td>\n      <td>309404152.0</td>\n      <td>Action|Adventure|Fantasy</td>\n      <td>...</td>\n      <td>1238.0</td>\n      <td>English</td>\n      <td>USA</td>\n      <td>PG-13</td>\n      <td>300000000.0</td>\n      <td>2007.0</td>\n      <td>5000.0</td>\n      <td>7.1</td>\n      <td>2.35</td>\n      <td>0</td>\n    </tr>\n    <tr>\n      <th>2</th>\n      <td>Color</td>\n      <td>Sam Mendes</td>\n      <td>602.0</td>\n      <td>148.0</td>\n      <td>0.0</td>\n      <td>161.0</td>\n      <td>Rory Kinnear</td>\n      <td>11000.0</td>\n      <td>200074175.0</td>\n      <td>Action|Adventure|Thriller</td>\n      <td>...</td>\n      <td>994.0</td>\n      <td>English</td>\n      <td>UK</td>\n      <td>PG-13</td>\n      <td>245000000.0</td>\n      <td>2015.0</td>\n      <td>393.0</td>\n      <td>6.8</td>\n      <td>2.35</td>\n      <td>85000</td>\n    </tr>\n    <tr>\n      <th>3</th>\n      <td>Color</td>\n      <td>Christopher Nolan</td>\n      <td>813.0</td>\n      <td>164.0</td>\n      <td>22000.0</td>\n      <td>23000.0</td>\n      <td>Christian Bale</td>\n      <td>27000.0</td>\n      <td>448130642.0</td>\n      <td>Action|Thriller</td>\n      <td>...</td>\n      <td>2701.0</td>\n      <td>English</td>\n      <td>USA</td>\n      <td>PG-13</td>\n      <td>250000000.0</td>\n      <td>2012.0</td>\n      <td>23000.0</td>\n      <td>8.5</td>\n      <td>2.35</td>\n      <td>164000</td>\n    </tr>\n    <tr>\n      <th>4</th>\n      <td>NaN</td>\n      <td>Doug Walker</td>\n      <td>NaN</td>\n      <td>NaN</td>\n      <td>131.0</td>\n      <td>NaN</td>\n      <td>Rob Walker</td>\n      <td>131.0</td>\n      <td>NaN</td>\n      <td>Documentary</td>\n      <td>...</td>\n      <td>NaN</td>\n      <td>NaN</td>\n      <td>NaN</td>\n      <td>NaN</td>\n      <td>NaN</td>\n      <td>NaN</td>\n      <td>12.0</td>\n      <td>7.1</td>\n      <td>NaN</td>\n      <td>0</td>\n    </tr>\n  </tbody>\n</table>\n<p>5 rows × 28 columns</p>\n</div>",
      "text/plain": "   color      director_name  num_critic_for_reviews  duration  \\\n0  Color      James Cameron                   723.0     178.0   \n1  Color     Gore Verbinski                   302.0     169.0   \n2  Color         Sam Mendes                   602.0     148.0   \n3  Color  Christopher Nolan                   813.0     164.0   \n4    NaN        Doug Walker                     NaN       NaN   \n\n   director_facebook_likes  actor_3_facebook_likes      actor_2_name  \\\n0                      0.0                   855.0  Joel David Moore   \n1                    563.0                  1000.0     Orlando Bloom   \n2                      0.0                   161.0      Rory Kinnear   \n3                  22000.0                 23000.0    Christian Bale   \n4                    131.0                     NaN        Rob Walker   \n\n   actor_1_facebook_likes        gross                           genres  \\\n0                  1000.0  760505847.0  Action|Adventure|Fantasy|Sci-Fi   \n1                 40000.0  309404152.0         Action|Adventure|Fantasy   \n2                 11000.0  200074175.0        Action|Adventure|Thriller   \n3                 27000.0  448130642.0                  Action|Thriller   \n4                   131.0          NaN                      Documentary   \n\n          ...          num_user_for_reviews language  country  content_rating  \\\n0         ...                        3054.0  English      USA           PG-13   \n1         ...                        1238.0  English      USA           PG-13   \n2         ...                         994.0  English       UK           PG-13   \n3         ...                        2701.0  English      USA           PG-13   \n4         ...                           NaN      NaN      NaN             NaN   \n\n        budget  title_year actor_2_facebook_likes imdb_score  aspect_ratio  \\\n0  237000000.0      2009.0                  936.0        7.9          1.78   \n1  300000000.0      2007.0                 5000.0        7.1          2.35   \n2  245000000.0      2015.0                  393.0        6.8          2.35   \n3  250000000.0      2012.0                23000.0        8.5          2.35   \n4          NaN         NaN                   12.0        7.1           NaN   \n\n  movie_facebook_likes  \n0                33000  \n1                    0  \n2                85000  \n3               164000  \n4                    0  \n\n[5 rows x 28 columns]"
     },
     "execution_count": 6,
     "metadata": {},
     "output_type": "execute_result"
    }
   ],
   "metadata": {}
  },
  {
   "cell_type": "code",
   "source": "df.describe()",
   "execution_count": 8,
   "outputs": [
    {
     "data": {
      "text/html": "<div>\n<table border=\"1\" class=\"dataframe\">\n  <thead>\n    <tr style=\"text-align: right;\">\n      <th></th>\n      <th>num_critic_for_reviews</th>\n      <th>duration</th>\n      <th>director_facebook_likes</th>\n      <th>actor_3_facebook_likes</th>\n      <th>actor_1_facebook_likes</th>\n      <th>gross</th>\n      <th>num_voted_users</th>\n      <th>cast_total_facebook_likes</th>\n      <th>facenumber_in_poster</th>\n      <th>num_user_for_reviews</th>\n      <th>budget</th>\n      <th>title_year</th>\n      <th>actor_2_facebook_likes</th>\n      <th>imdb_score</th>\n      <th>aspect_ratio</th>\n      <th>movie_facebook_likes</th>\n    </tr>\n  </thead>\n  <tbody>\n    <tr>\n      <th>count</th>\n      <td>4993.000000</td>\n      <td>5028.000000</td>\n      <td>4939.000000</td>\n      <td>5020.000000</td>\n      <td>5036.000000</td>\n      <td>4.159000e+03</td>\n      <td>5.043000e+03</td>\n      <td>5043.000000</td>\n      <td>5030.000000</td>\n      <td>5022.000000</td>\n      <td>4.551000e+03</td>\n      <td>4935.000000</td>\n      <td>5030.000000</td>\n      <td>5043.000000</td>\n      <td>4714.000000</td>\n      <td>5043.000000</td>\n    </tr>\n    <tr>\n      <th>mean</th>\n      <td>140.194272</td>\n      <td>107.201074</td>\n      <td>686.509212</td>\n      <td>645.009761</td>\n      <td>6560.047061</td>\n      <td>4.846841e+07</td>\n      <td>8.366816e+04</td>\n      <td>9699.063851</td>\n      <td>1.371173</td>\n      <td>272.770808</td>\n      <td>3.975262e+07</td>\n      <td>2002.470517</td>\n      <td>1651.754473</td>\n      <td>6.442138</td>\n      <td>2.220403</td>\n      <td>7525.964505</td>\n    </tr>\n    <tr>\n      <th>std</th>\n      <td>121.601675</td>\n      <td>25.197441</td>\n      <td>2813.328607</td>\n      <td>1665.041728</td>\n      <td>15020.759120</td>\n      <td>6.845299e+07</td>\n      <td>1.384853e+05</td>\n      <td>18163.799124</td>\n      <td>2.013576</td>\n      <td>377.982886</td>\n      <td>2.061149e+08</td>\n      <td>12.474599</td>\n      <td>4042.438863</td>\n      <td>1.125116</td>\n      <td>1.385113</td>\n      <td>19320.445110</td>\n    </tr>\n    <tr>\n      <th>min</th>\n      <td>1.000000</td>\n      <td>7.000000</td>\n      <td>0.000000</td>\n      <td>0.000000</td>\n      <td>0.000000</td>\n      <td>1.620000e+02</td>\n      <td>5.000000e+00</td>\n      <td>0.000000</td>\n      <td>0.000000</td>\n      <td>1.000000</td>\n      <td>2.180000e+02</td>\n      <td>1916.000000</td>\n      <td>0.000000</td>\n      <td>1.600000</td>\n      <td>1.180000</td>\n      <td>0.000000</td>\n    </tr>\n    <tr>\n      <th>25%</th>\n      <td>NaN</td>\n      <td>NaN</td>\n      <td>NaN</td>\n      <td>NaN</td>\n      <td>NaN</td>\n      <td>NaN</td>\n      <td>8.593500e+03</td>\n      <td>1411.000000</td>\n      <td>NaN</td>\n      <td>NaN</td>\n      <td>NaN</td>\n      <td>NaN</td>\n      <td>NaN</td>\n      <td>5.800000</td>\n      <td>NaN</td>\n      <td>0.000000</td>\n    </tr>\n    <tr>\n      <th>50%</th>\n      <td>NaN</td>\n      <td>NaN</td>\n      <td>NaN</td>\n      <td>NaN</td>\n      <td>NaN</td>\n      <td>NaN</td>\n      <td>3.435900e+04</td>\n      <td>3090.000000</td>\n      <td>NaN</td>\n      <td>NaN</td>\n      <td>NaN</td>\n      <td>NaN</td>\n      <td>NaN</td>\n      <td>6.600000</td>\n      <td>NaN</td>\n      <td>166.000000</td>\n    </tr>\n    <tr>\n      <th>75%</th>\n      <td>NaN</td>\n      <td>NaN</td>\n      <td>NaN</td>\n      <td>NaN</td>\n      <td>NaN</td>\n      <td>NaN</td>\n      <td>9.630900e+04</td>\n      <td>13756.500000</td>\n      <td>NaN</td>\n      <td>NaN</td>\n      <td>NaN</td>\n      <td>NaN</td>\n      <td>NaN</td>\n      <td>7.200000</td>\n      <td>NaN</td>\n      <td>3000.000000</td>\n    </tr>\n    <tr>\n      <th>max</th>\n      <td>813.000000</td>\n      <td>511.000000</td>\n      <td>23000.000000</td>\n      <td>23000.000000</td>\n      <td>640000.000000</td>\n      <td>7.605058e+08</td>\n      <td>1.689764e+06</td>\n      <td>656730.000000</td>\n      <td>43.000000</td>\n      <td>5060.000000</td>\n      <td>1.221550e+10</td>\n      <td>2016.000000</td>\n      <td>137000.000000</td>\n      <td>9.500000</td>\n      <td>16.000000</td>\n      <td>349000.000000</td>\n    </tr>\n  </tbody>\n</table>\n</div>",
      "text/plain": "       num_critic_for_reviews     duration  director_facebook_likes  \\\ncount             4993.000000  5028.000000              4939.000000   \nmean               140.194272   107.201074               686.509212   \nstd                121.601675    25.197441              2813.328607   \nmin                  1.000000     7.000000                 0.000000   \n25%                       NaN          NaN                      NaN   \n50%                       NaN          NaN                      NaN   \n75%                       NaN          NaN                      NaN   \nmax                813.000000   511.000000             23000.000000   \n\n       actor_3_facebook_likes  actor_1_facebook_likes         gross  \\\ncount             5020.000000             5036.000000  4.159000e+03   \nmean               645.009761             6560.047061  4.846841e+07   \nstd               1665.041728            15020.759120  6.845299e+07   \nmin                  0.000000                0.000000  1.620000e+02   \n25%                       NaN                     NaN           NaN   \n50%                       NaN                     NaN           NaN   \n75%                       NaN                     NaN           NaN   \nmax              23000.000000           640000.000000  7.605058e+08   \n\n       num_voted_users  cast_total_facebook_likes  facenumber_in_poster  \\\ncount     5.043000e+03                5043.000000           5030.000000   \nmean      8.366816e+04                9699.063851              1.371173   \nstd       1.384853e+05               18163.799124              2.013576   \nmin       5.000000e+00                   0.000000              0.000000   \n25%       8.593500e+03                1411.000000                   NaN   \n50%       3.435900e+04                3090.000000                   NaN   \n75%       9.630900e+04               13756.500000                   NaN   \nmax       1.689764e+06              656730.000000             43.000000   \n\n       num_user_for_reviews        budget   title_year  \\\ncount           5022.000000  4.551000e+03  4935.000000   \nmean             272.770808  3.975262e+07  2002.470517   \nstd              377.982886  2.061149e+08    12.474599   \nmin                1.000000  2.180000e+02  1916.000000   \n25%                     NaN           NaN          NaN   \n50%                     NaN           NaN          NaN   \n75%                     NaN           NaN          NaN   \nmax             5060.000000  1.221550e+10  2016.000000   \n\n       actor_2_facebook_likes   imdb_score  aspect_ratio  movie_facebook_likes  \ncount             5030.000000  5043.000000   4714.000000           5043.000000  \nmean              1651.754473     6.442138      2.220403           7525.964505  \nstd               4042.438863     1.125116      1.385113          19320.445110  \nmin                  0.000000     1.600000      1.180000              0.000000  \n25%                       NaN     5.800000           NaN              0.000000  \n50%                       NaN     6.600000           NaN            166.000000  \n75%                       NaN     7.200000           NaN           3000.000000  \nmax             137000.000000     9.500000     16.000000         349000.000000  "
     },
     "execution_count": 8,
     "metadata": {},
     "output_type": "execute_result"
    }
   ],
   "metadata": {}
  },
  {
   "cell_type": "code",
   "source": "df.loc[df.groupby(['director_name']).count()['duration'].max(),'director_name']",
   "execution_count": 29,
   "outputs": [
    {
     "data": {
      "text/plain": "'James Cameron'"
     },
     "execution_count": 29,
     "metadata": {},
     "output_type": "execute_result"
    }
   ],
   "metadata": {}
  },
  {
   "cell_type": "code",
   "source": "df.loc[df.groupby(['actor_2_name']).count()['color'].max(),'actor_2_name']",
   "execution_count": 35,
   "outputs": [
    {
     "data": {
      "text/plain": "'Adam Brown'"
     },
     "execution_count": 35,
     "metadata": {},
     "output_type": "execute_result"
    }
   ],
   "metadata": {}
  },
  {
   "cell_type": "code",
   "source": "df.loc[df.groupby(['actor_1_name']).count()['color'].max(),'actor_1_name']",
   "execution_count": 39,
   "outputs": [
    {
     "data": {
      "text/plain": "'Eddie Marsan'"
     },
     "execution_count": 39,
     "metadata": {},
     "output_type": "execute_result"
    }
   ],
   "metadata": {}
  },
  {
   "cell_type": "code",
   "source": null,
   "execution_count": null,
   "outputs": [],
   "metadata": {}
  }
 ]
}