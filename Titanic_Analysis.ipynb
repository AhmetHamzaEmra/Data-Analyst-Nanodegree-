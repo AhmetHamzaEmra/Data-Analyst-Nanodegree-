{
 "cells": [
  {
   "cell_type": "markdown",
   "metadata": {
    "collapsed": false,
    "nbpresent": {
     "id": "005b099c-4b4c-4fdb-9ff7-2ef9252e0e4c"
    }
   },
   "source": [
    "# Titanic Data Analysis\n",
    "in this project i work on Titanic data and try to figure out questions like what factor made people more likely to survive and others "
   ]
  },
  {
   "cell_type": "markdown",
   "metadata": {
    "nbpresent": {
     "id": "fa2b8885-7f6a-48e4-9e91-27cb1e292cc4"
    }
   },
   "source": [
    "## Reading data "
   ]
  },
  {
   "cell_type": "code",
   "execution_count": 1,
   "metadata": {
    "collapsed": true,
    "nbpresent": {
     "id": "0d2b1c10-a548-4f31-a385-f501d4278e64"
    }
   },
   "outputs": [],
   "source": [
    "import unicodecsv\n",
    "import os\n",
    "import pandas as pd\n",
    "import numpy as np\n",
    "import seaborn as sns\n",
    "import matplotlib.pyplot as plt\n",
    "path = 'C:\\\\Users\\\\aemra\\\\Documents\\\\Python\\\\Nanodegree\\\\Project 2'\n",
    "os.chdir(path)"
   ]
  },
  {
   "cell_type": "code",
   "execution_count": 2,
   "metadata": {
    "collapsed": false,
    "nbpresent": {
     "id": "268e7676-31c8-4861-b518-4bf902c5986b"
    },
    "scrolled": true
   },
   "outputs": [
    {
     "data": {
      "text/html": [
       "<div>\n",
       "<table border=\"1\" class=\"dataframe\">\n",
       "  <thead>\n",
       "    <tr style=\"text-align: right;\">\n",
       "      <th></th>\n",
       "      <th>PassengerId</th>\n",
       "      <th>Survived</th>\n",
       "      <th>Pclass</th>\n",
       "      <th>Name</th>\n",
       "      <th>Sex</th>\n",
       "      <th>Age</th>\n",
       "      <th>SibSp</th>\n",
       "      <th>Parch</th>\n",
       "      <th>Ticket</th>\n",
       "      <th>Fare</th>\n",
       "      <th>Cabin</th>\n",
       "      <th>Embarked</th>\n",
       "    </tr>\n",
       "  </thead>\n",
       "  <tbody>\n",
       "    <tr>\n",
       "      <th>0</th>\n",
       "      <td>1</td>\n",
       "      <td>0</td>\n",
       "      <td>3</td>\n",
       "      <td>Braund, Mr. Owen Harris</td>\n",
       "      <td>male</td>\n",
       "      <td>22.0</td>\n",
       "      <td>1</td>\n",
       "      <td>0</td>\n",
       "      <td>A/5 21171</td>\n",
       "      <td>7.2500</td>\n",
       "      <td>NaN</td>\n",
       "      <td>S</td>\n",
       "    </tr>\n",
       "    <tr>\n",
       "      <th>1</th>\n",
       "      <td>2</td>\n",
       "      <td>1</td>\n",
       "      <td>1</td>\n",
       "      <td>Cumings, Mrs. John Bradley (Florence Briggs Th...</td>\n",
       "      <td>female</td>\n",
       "      <td>38.0</td>\n",
       "      <td>1</td>\n",
       "      <td>0</td>\n",
       "      <td>PC 17599</td>\n",
       "      <td>71.2833</td>\n",
       "      <td>C85</td>\n",
       "      <td>C</td>\n",
       "    </tr>\n",
       "    <tr>\n",
       "      <th>2</th>\n",
       "      <td>3</td>\n",
       "      <td>1</td>\n",
       "      <td>3</td>\n",
       "      <td>Heikkinen, Miss. Laina</td>\n",
       "      <td>female</td>\n",
       "      <td>26.0</td>\n",
       "      <td>0</td>\n",
       "      <td>0</td>\n",
       "      <td>STON/O2. 3101282</td>\n",
       "      <td>7.9250</td>\n",
       "      <td>NaN</td>\n",
       "      <td>S</td>\n",
       "    </tr>\n",
       "    <tr>\n",
       "      <th>3</th>\n",
       "      <td>4</td>\n",
       "      <td>1</td>\n",
       "      <td>1</td>\n",
       "      <td>Futrelle, Mrs. Jacques Heath (Lily May Peel)</td>\n",
       "      <td>female</td>\n",
       "      <td>35.0</td>\n",
       "      <td>1</td>\n",
       "      <td>0</td>\n",
       "      <td>113803</td>\n",
       "      <td>53.1000</td>\n",
       "      <td>C123</td>\n",
       "      <td>S</td>\n",
       "    </tr>\n",
       "    <tr>\n",
       "      <th>4</th>\n",
       "      <td>5</td>\n",
       "      <td>0</td>\n",
       "      <td>3</td>\n",
       "      <td>Allen, Mr. William Henry</td>\n",
       "      <td>male</td>\n",
       "      <td>35.0</td>\n",
       "      <td>0</td>\n",
       "      <td>0</td>\n",
       "      <td>373450</td>\n",
       "      <td>8.0500</td>\n",
       "      <td>NaN</td>\n",
       "      <td>S</td>\n",
       "    </tr>\n",
       "  </tbody>\n",
       "</table>\n",
       "</div>"
      ],
      "text/plain": [
       "   PassengerId  Survived  Pclass  \\\n",
       "0            1         0       3   \n",
       "1            2         1       1   \n",
       "2            3         1       3   \n",
       "3            4         1       1   \n",
       "4            5         0       3   \n",
       "\n",
       "                                                Name     Sex   Age  SibSp  \\\n",
       "0                            Braund, Mr. Owen Harris    male  22.0      1   \n",
       "1  Cumings, Mrs. John Bradley (Florence Briggs Th...  female  38.0      1   \n",
       "2                             Heikkinen, Miss. Laina  female  26.0      0   \n",
       "3       Futrelle, Mrs. Jacques Heath (Lily May Peel)  female  35.0      1   \n",
       "4                           Allen, Mr. William Henry    male  35.0      0   \n",
       "\n",
       "   Parch            Ticket     Fare Cabin Embarked  \n",
       "0      0         A/5 21171   7.2500   NaN        S  \n",
       "1      0          PC 17599  71.2833   C85        C  \n",
       "2      0  STON/O2. 3101282   7.9250   NaN        S  \n",
       "3      0            113803  53.1000  C123        S  \n",
       "4      0            373450   8.0500   NaN        S  "
      ]
     },
     "execution_count": 2,
     "metadata": {},
     "output_type": "execute_result"
    }
   ],
   "source": [
    "titanic_df=pd.read_csv('train.csv')\n",
    "titanic_df.head(5)"
   ]
  },
  {
   "cell_type": "code",
   "execution_count": 3,
   "metadata": {
    "collapsed": false
   },
   "outputs": [
    {
     "name": "stderr",
     "output_type": "stream",
     "text": [
      "C:\\Users\\aemra\\AppData\\Local\\Continuum\\Anaconda3\\lib\\site-packages\\numpy\\lib\\function_base.py:3834: RuntimeWarning: Invalid value encountered in percentile\n",
      "  RuntimeWarning)\n"
     ]
    },
    {
     "data": {
      "text/html": [
       "<div>\n",
       "<table border=\"1\" class=\"dataframe\">\n",
       "  <thead>\n",
       "    <tr style=\"text-align: right;\">\n",
       "      <th></th>\n",
       "      <th>PassengerId</th>\n",
       "      <th>Survived</th>\n",
       "      <th>Pclass</th>\n",
       "      <th>Age</th>\n",
       "      <th>SibSp</th>\n",
       "      <th>Parch</th>\n",
       "      <th>Fare</th>\n",
       "    </tr>\n",
       "  </thead>\n",
       "  <tbody>\n",
       "    <tr>\n",
       "      <th>count</th>\n",
       "      <td>891.000000</td>\n",
       "      <td>891.000000</td>\n",
       "      <td>891.000000</td>\n",
       "      <td>714.000000</td>\n",
       "      <td>891.000000</td>\n",
       "      <td>891.000000</td>\n",
       "      <td>891.000000</td>\n",
       "    </tr>\n",
       "    <tr>\n",
       "      <th>mean</th>\n",
       "      <td>446.000000</td>\n",
       "      <td>0.383838</td>\n",
       "      <td>2.308642</td>\n",
       "      <td>29.699118</td>\n",
       "      <td>0.523008</td>\n",
       "      <td>0.381594</td>\n",
       "      <td>32.204208</td>\n",
       "    </tr>\n",
       "    <tr>\n",
       "      <th>std</th>\n",
       "      <td>257.353842</td>\n",
       "      <td>0.486592</td>\n",
       "      <td>0.836071</td>\n",
       "      <td>14.526497</td>\n",
       "      <td>1.102743</td>\n",
       "      <td>0.806057</td>\n",
       "      <td>49.693429</td>\n",
       "    </tr>\n",
       "    <tr>\n",
       "      <th>min</th>\n",
       "      <td>1.000000</td>\n",
       "      <td>0.000000</td>\n",
       "      <td>1.000000</td>\n",
       "      <td>0.420000</td>\n",
       "      <td>0.000000</td>\n",
       "      <td>0.000000</td>\n",
       "      <td>0.000000</td>\n",
       "    </tr>\n",
       "    <tr>\n",
       "      <th>25%</th>\n",
       "      <td>223.500000</td>\n",
       "      <td>0.000000</td>\n",
       "      <td>2.000000</td>\n",
       "      <td>NaN</td>\n",
       "      <td>0.000000</td>\n",
       "      <td>0.000000</td>\n",
       "      <td>7.910400</td>\n",
       "    </tr>\n",
       "    <tr>\n",
       "      <th>50%</th>\n",
       "      <td>446.000000</td>\n",
       "      <td>0.000000</td>\n",
       "      <td>3.000000</td>\n",
       "      <td>NaN</td>\n",
       "      <td>0.000000</td>\n",
       "      <td>0.000000</td>\n",
       "      <td>14.454200</td>\n",
       "    </tr>\n",
       "    <tr>\n",
       "      <th>75%</th>\n",
       "      <td>668.500000</td>\n",
       "      <td>1.000000</td>\n",
       "      <td>3.000000</td>\n",
       "      <td>NaN</td>\n",
       "      <td>1.000000</td>\n",
       "      <td>0.000000</td>\n",
       "      <td>31.000000</td>\n",
       "    </tr>\n",
       "    <tr>\n",
       "      <th>max</th>\n",
       "      <td>891.000000</td>\n",
       "      <td>1.000000</td>\n",
       "      <td>3.000000</td>\n",
       "      <td>80.000000</td>\n",
       "      <td>8.000000</td>\n",
       "      <td>6.000000</td>\n",
       "      <td>512.329200</td>\n",
       "    </tr>\n",
       "  </tbody>\n",
       "</table>\n",
       "</div>"
      ],
      "text/plain": [
       "       PassengerId    Survived      Pclass         Age       SibSp  \\\n",
       "count   891.000000  891.000000  891.000000  714.000000  891.000000   \n",
       "mean    446.000000    0.383838    2.308642   29.699118    0.523008   \n",
       "std     257.353842    0.486592    0.836071   14.526497    1.102743   \n",
       "min       1.000000    0.000000    1.000000    0.420000    0.000000   \n",
       "25%     223.500000    0.000000    2.000000         NaN    0.000000   \n",
       "50%     446.000000    0.000000    3.000000         NaN    0.000000   \n",
       "75%     668.500000    1.000000    3.000000         NaN    1.000000   \n",
       "max     891.000000    1.000000    3.000000   80.000000    8.000000   \n",
       "\n",
       "            Parch        Fare  \n",
       "count  891.000000  891.000000  \n",
       "mean     0.381594   32.204208  \n",
       "std      0.806057   49.693429  \n",
       "min      0.000000    0.000000  \n",
       "25%      0.000000    7.910400  \n",
       "50%      0.000000   14.454200  \n",
       "75%      0.000000   31.000000  \n",
       "max      6.000000  512.329200  "
      ]
     },
     "execution_count": 3,
     "metadata": {},
     "output_type": "execute_result"
    }
   ],
   "source": [
    "titanic_df.describe()"
   ]
  },
  {
   "cell_type": "code",
   "execution_count": 4,
   "metadata": {
    "collapsed": false
   },
   "outputs": [],
   "source": [
    "#some datas from age column are missing \n",
    "\n",
    "df=titanic_df.dropna(subset=['Age'])"
   ]
  },
  {
   "cell_type": "code",
   "execution_count": 5,
   "metadata": {
    "collapsed": false
   },
   "outputs": [
    {
     "data": {
      "text/html": [
       "<div>\n",
       "<table border=\"1\" class=\"dataframe\">\n",
       "  <thead>\n",
       "    <tr style=\"text-align: right;\">\n",
       "      <th></th>\n",
       "      <th>PassengerId</th>\n",
       "      <th>Survived</th>\n",
       "      <th>Pclass</th>\n",
       "      <th>Age</th>\n",
       "      <th>SibSp</th>\n",
       "      <th>Parch</th>\n",
       "      <th>Fare</th>\n",
       "    </tr>\n",
       "  </thead>\n",
       "  <tbody>\n",
       "    <tr>\n",
       "      <th>count</th>\n",
       "      <td>714.000000</td>\n",
       "      <td>714.000000</td>\n",
       "      <td>714.000000</td>\n",
       "      <td>714.000000</td>\n",
       "      <td>714.000000</td>\n",
       "      <td>714.000000</td>\n",
       "      <td>714.000000</td>\n",
       "    </tr>\n",
       "    <tr>\n",
       "      <th>mean</th>\n",
       "      <td>448.582633</td>\n",
       "      <td>0.406162</td>\n",
       "      <td>2.236695</td>\n",
       "      <td>29.699118</td>\n",
       "      <td>0.512605</td>\n",
       "      <td>0.431373</td>\n",
       "      <td>34.694514</td>\n",
       "    </tr>\n",
       "    <tr>\n",
       "      <th>std</th>\n",
       "      <td>259.119524</td>\n",
       "      <td>0.491460</td>\n",
       "      <td>0.838250</td>\n",
       "      <td>14.526497</td>\n",
       "      <td>0.929783</td>\n",
       "      <td>0.853289</td>\n",
       "      <td>52.918930</td>\n",
       "    </tr>\n",
       "    <tr>\n",
       "      <th>min</th>\n",
       "      <td>1.000000</td>\n",
       "      <td>0.000000</td>\n",
       "      <td>1.000000</td>\n",
       "      <td>0.420000</td>\n",
       "      <td>0.000000</td>\n",
       "      <td>0.000000</td>\n",
       "      <td>0.000000</td>\n",
       "    </tr>\n",
       "    <tr>\n",
       "      <th>25%</th>\n",
       "      <td>222.250000</td>\n",
       "      <td>0.000000</td>\n",
       "      <td>1.000000</td>\n",
       "      <td>20.125000</td>\n",
       "      <td>0.000000</td>\n",
       "      <td>0.000000</td>\n",
       "      <td>8.050000</td>\n",
       "    </tr>\n",
       "    <tr>\n",
       "      <th>50%</th>\n",
       "      <td>445.000000</td>\n",
       "      <td>0.000000</td>\n",
       "      <td>2.000000</td>\n",
       "      <td>28.000000</td>\n",
       "      <td>0.000000</td>\n",
       "      <td>0.000000</td>\n",
       "      <td>15.741700</td>\n",
       "    </tr>\n",
       "    <tr>\n",
       "      <th>75%</th>\n",
       "      <td>677.750000</td>\n",
       "      <td>1.000000</td>\n",
       "      <td>3.000000</td>\n",
       "      <td>38.000000</td>\n",
       "      <td>1.000000</td>\n",
       "      <td>1.000000</td>\n",
       "      <td>33.375000</td>\n",
       "    </tr>\n",
       "    <tr>\n",
       "      <th>max</th>\n",
       "      <td>891.000000</td>\n",
       "      <td>1.000000</td>\n",
       "      <td>3.000000</td>\n",
       "      <td>80.000000</td>\n",
       "      <td>5.000000</td>\n",
       "      <td>6.000000</td>\n",
       "      <td>512.329200</td>\n",
       "    </tr>\n",
       "  </tbody>\n",
       "</table>\n",
       "</div>"
      ],
      "text/plain": [
       "       PassengerId    Survived      Pclass         Age       SibSp  \\\n",
       "count   714.000000  714.000000  714.000000  714.000000  714.000000   \n",
       "mean    448.582633    0.406162    2.236695   29.699118    0.512605   \n",
       "std     259.119524    0.491460    0.838250   14.526497    0.929783   \n",
       "min       1.000000    0.000000    1.000000    0.420000    0.000000   \n",
       "25%     222.250000    0.000000    1.000000   20.125000    0.000000   \n",
       "50%     445.000000    0.000000    2.000000   28.000000    0.000000   \n",
       "75%     677.750000    1.000000    3.000000   38.000000    1.000000   \n",
       "max     891.000000    1.000000    3.000000   80.000000    5.000000   \n",
       "\n",
       "            Parch        Fare  \n",
       "count  714.000000  714.000000  \n",
       "mean     0.431373   34.694514  \n",
       "std      0.853289   52.918930  \n",
       "min      0.000000    0.000000  \n",
       "25%      0.000000    8.050000  \n",
       "50%      0.000000   15.741700  \n",
       "75%      1.000000   33.375000  \n",
       "max      6.000000  512.329200  "
      ]
     },
     "execution_count": 5,
     "metadata": {},
     "output_type": "execute_result"
    }
   ],
   "source": [
    "df.describe()"
   ]
  },
  {
   "cell_type": "code",
   "execution_count": 6,
   "metadata": {
    "collapsed": false
   },
   "outputs": [
    {
     "data": {
      "text/html": [
       "<div>\n",
       "<table border=\"1\" class=\"dataframe\">\n",
       "  <thead>\n",
       "    <tr style=\"text-align: right;\">\n",
       "      <th></th>\n",
       "      <th>PassengerId</th>\n",
       "      <th>Survived</th>\n",
       "      <th>Pclass</th>\n",
       "      <th>Age</th>\n",
       "      <th>SibSp</th>\n",
       "      <th>Parch</th>\n",
       "      <th>Fare</th>\n",
       "    </tr>\n",
       "  </thead>\n",
       "  <tbody>\n",
       "    <tr>\n",
       "      <th>0</th>\n",
       "      <td>1</td>\n",
       "      <td>0</td>\n",
       "      <td>3</td>\n",
       "      <td>22.0</td>\n",
       "      <td>1</td>\n",
       "      <td>0</td>\n",
       "      <td>7.2500</td>\n",
       "    </tr>\n",
       "    <tr>\n",
       "      <th>1</th>\n",
       "      <td>2</td>\n",
       "      <td>1</td>\n",
       "      <td>1</td>\n",
       "      <td>38.0</td>\n",
       "      <td>1</td>\n",
       "      <td>0</td>\n",
       "      <td>71.2833</td>\n",
       "    </tr>\n",
       "    <tr>\n",
       "      <th>2</th>\n",
       "      <td>3</td>\n",
       "      <td>1</td>\n",
       "      <td>3</td>\n",
       "      <td>26.0</td>\n",
       "      <td>0</td>\n",
       "      <td>0</td>\n",
       "      <td>7.9250</td>\n",
       "    </tr>\n",
       "    <tr>\n",
       "      <th>3</th>\n",
       "      <td>4</td>\n",
       "      <td>1</td>\n",
       "      <td>1</td>\n",
       "      <td>35.0</td>\n",
       "      <td>1</td>\n",
       "      <td>0</td>\n",
       "      <td>53.1000</td>\n",
       "    </tr>\n",
       "    <tr>\n",
       "      <th>4</th>\n",
       "      <td>5</td>\n",
       "      <td>0</td>\n",
       "      <td>3</td>\n",
       "      <td>35.0</td>\n",
       "      <td>0</td>\n",
       "      <td>0</td>\n",
       "      <td>8.0500</td>\n",
       "    </tr>\n",
       "  </tbody>\n",
       "</table>\n",
       "</div>"
      ],
      "text/plain": [
       "   PassengerId  Survived  Pclass   Age  SibSp  Parch     Fare\n",
       "0            1         0       3  22.0      1      0   7.2500\n",
       "1            2         1       1  38.0      1      0  71.2833\n",
       "2            3         1       3  26.0      0      0   7.9250\n",
       "3            4         1       1  35.0      1      0  53.1000\n",
       "4            5         0       3  35.0      0      0   8.0500"
      ]
     },
     "execution_count": 6,
     "metadata": {},
     "output_type": "execute_result"
    }
   ],
   "source": [
    "numeric_variables=list(df.dtypes[df.dtypes!='object'].index)\n",
    "df[numeric_variables].head()"
   ]
  },
  {
   "cell_type": "markdown",
   "metadata": {
    "nbpresent": {
     "id": "8f5fc3db-3d64-408e-8fec-c2ac560e0382"
    }
   },
   "source": [
    "## Question 1 : What factor made people more likely to survive?\n",
    "### Survuve and Sex relation"
   ]
  },
  {
   "cell_type": "code",
   "execution_count": 7,
   "metadata": {
    "collapsed": true,
    "nbpresent": {
     "id": "5f1bd98a-e135-46d6-8325-18919b353d5b"
    }
   },
   "outputs": [],
   "source": [
    "#Standarilizng the data Survive\n",
    "def standardize_colum(column):\n",
    "    return (column-column.mean())/column.std()"
   ]
  },
  {
   "cell_type": "code",
   "execution_count": 8,
   "metadata": {
    "collapsed": false,
    "nbpresent": {
     "id": "edd84256-3ecf-4391-acb3-8339df1f47c1"
    }
   },
   "outputs": [
    {
     "data": {
      "text/plain": [
       "count    7.140000e+02\n",
       "mean    -1.310810e-16\n",
       "std      1.000000e+00\n",
       "min     -8.264408e-01\n",
       "25%     -8.264408e-01\n",
       "50%     -8.264408e-01\n",
       "75%      1.208313e+00\n",
       "max      1.208313e+00\n",
       "Name: Survived, dtype: float64"
      ]
     },
     "execution_count": 8,
     "metadata": {},
     "output_type": "execute_result"
    }
   ],
   "source": [
    "standardize_colum(df['Survived']).describe()"
   ]
  },
  {
   "cell_type": "code",
   "execution_count": 9,
   "metadata": {
    "collapsed": false,
    "nbpresent": {
     "id": "68030ec0-9207-4e5e-a51d-ea939a68ff62"
    }
   },
   "outputs": [
    {
     "data": {
      "image/png": "[encoded data removed]",
      "text/plain": [
       "<matplotlib.figure.Figure at 0x210e26f9898>"
      ]
     },
     "metadata": {},
     "output_type": "display_data"
    }
   ],
   "source": [
    "df1=(df.groupby(['Survived', 'Sex'])).count().unstack('Sex').fillna(0)['PassengerId']\n",
    "df1[['male', 'female']].plot(kind='bar', stacked=True)\n",
    "plt.title(\"Survived and Gender Relation\")\n",
    "plt.ylabel(\"number of people\")\n",
    "plt.show()"
   ]
  },
  {
   "cell_type": "markdown",
   "metadata": {
    "nbpresent": {
     "id": "89160df9-fd84-48e6-80e0-57f3c57eb7ea"
    }
   },
   "source": [
    "***\n",
    "\n",
    "as we can see most of the people who survive is females but this is not enough to make comment on this part of data\n",
    "\n",
    "***\n",
    "\n"
   ]
  },
  {
   "cell_type": "code",
   "execution_count": 10,
   "metadata": {
    "collapsed": false,
    "nbpresent": {
     "id": "5de30aa1-944c-4a3d-a541-4ca71183e2a2"
    }
   },
   "outputs": [
    {
     "name": "stdout",
     "output_type": "stream",
     "text": [
      "Sex     Survived\n",
      "female  0           24.521073\n",
      "        1           75.478927\n",
      "male    0           79.470199\n",
      "        1           20.529801\n",
      "dtype: float64\n"
     ]
    }
   ],
   "source": [
    "total_gender=df.groupby('Sex').size()\n",
    "port_class_groups=df.groupby(['Sex', 'Survived'], as_index=False).size()*100/total_gender\n",
    "print (port_class_groups)"
   ]
  },
  {
   "cell_type": "markdown",
   "metadata": {
    "nbpresent": {
     "id": "933a9918-1b7b-404d-9135-9ee81185f7fd"
    }
   },
   "source": [
    "***\n",
    "form this data we can say that more than %75 of the female population has survived but %79.5 of males are died so;\n",
    "usualy womans and childs are being resqued first in this kind a stuation. but we did not look the data from age perspective so that it is early to commend that.\n",
    "\n",
    "### Age and Gender effect on Survive"
   ]
  },
  {
   "cell_type": "markdown",
   "metadata": {
    "nbpresent": {
     "id": "f07d234c-87f5-4c91-bb55-470bfbfcffff"
    }
   },
   "source": [
    "# Age and Survived\n",
    "\n",
    "### ages criteria\n",
    "\n",
    "###### 0-19  --> Young\n",
    "###### 20-39 --> Middle\n",
    "###### 40-80 --> Old "
   ]
  },
  {
   "cell_type": "code",
   "execution_count": 11,
   "metadata": {
    "collapsed": true
   },
   "outputs": [],
   "source": [
    "def agetoLetter(num):\n",
    "    if num<15:\n",
    "        return \"Y\"\n",
    "    elif num>14 and num<40:\n",
    "        return \"M\"\n",
    "    else:\n",
    "        return \"O\""
   ]
  },
  {
   "cell_type": "code",
   "execution_count": 12,
   "metadata": {
    "collapsed": false
   },
   "outputs": [
    {
     "name": "stderr",
     "output_type": "stream",
     "text": [
      "C:\\Users\\aemra\\AppData\\Local\\Continuum\\Anaconda3\\lib\\site-packages\\ipykernel\\__main__.py:1: SettingWithCopyWarning: \n",
      "A value is trying to be set on a copy of a slice from a DataFrame.\n",
      "Try using .loc[row_indexer,col_indexer] = value instead\n",
      "\n",
      "See the caveats in the documentation: http://pandas.pydata.org/pandas-docs/stable/indexing.html#indexing-view-versus-copy\n",
      "  if __name__ == '__main__':\n"
     ]
    }
   ],
   "source": [
    "df['Age']=df['Age'].apply(agetoLetter)"
   ]
  },
  {
   "cell_type": "code",
   "execution_count": 13,
   "metadata": {
    "collapsed": false
   },
   "outputs": [
    {
     "data": {
      "text/html": [
       "<div>\n",
       "<table border=\"1\" class=\"dataframe\">\n",
       "  <thead>\n",
       "    <tr style=\"text-align: right;\">\n",
       "      <th></th>\n",
       "      <th>Age</th>\n",
       "      <th>M</th>\n",
       "      <th>O</th>\n",
       "      <th>Y</th>\n",
       "    </tr>\n",
       "    <tr>\n",
       "      <th>Sex</th>\n",
       "      <th>Survived</th>\n",
       "      <th></th>\n",
       "      <th></th>\n",
       "      <th></th>\n",
       "    </tr>\n",
       "  </thead>\n",
       "  <tbody>\n",
       "    <tr>\n",
       "      <th rowspan=\"2\" valign=\"top\">female</th>\n",
       "      <th>0</th>\n",
       "      <td>37</td>\n",
       "      <td>12</td>\n",
       "      <td>15</td>\n",
       "    </tr>\n",
       "    <tr>\n",
       "      <th>1</th>\n",
       "      <td>131</td>\n",
       "      <td>42</td>\n",
       "      <td>24</td>\n",
       "    </tr>\n",
       "    <tr>\n",
       "      <th rowspan=\"2\" valign=\"top\">male</th>\n",
       "      <th>0</th>\n",
       "      <td>252</td>\n",
       "      <td>90</td>\n",
       "      <td>18</td>\n",
       "    </tr>\n",
       "    <tr>\n",
       "      <th>1</th>\n",
       "      <td>53</td>\n",
       "      <td>19</td>\n",
       "      <td>21</td>\n",
       "    </tr>\n",
       "  </tbody>\n",
       "</table>\n",
       "</div>"
      ],
      "text/plain": [
       "Age                M   O   Y\n",
       "Sex    Survived             \n",
       "female 0          37  12  15\n",
       "       1         131  42  24\n",
       "male   0         252  90  18\n",
       "       1          53  19  21"
      ]
     },
     "execution_count": 13,
     "metadata": {},
     "output_type": "execute_result"
    }
   ],
   "source": [
    "age_gender=df.groupby(['Age','Sex','Survived'])['PassengerId'].count().unstack('Age')\n",
    "age_gender"
   ]
  },
  {
   "cell_type": "code",
   "execution_count": 14,
   "metadata": {
    "collapsed": false
   },
   "outputs": [
    {
     "data": {
      "image/png": "[encoded data removed]",
      "text/plain": [
       "<matplotlib.figure.Figure at 0x210e2bb5668>"
      ]
     },
     "metadata": {},
     "output_type": "display_data"
    }
   ],
   "source": [
    "age_gender.plot(kind='barh', stacked=True)\n",
    "plt.title(\"Gender and Age on Surviving\")\n",
    "plt.xlabel(\"Number of People\")\n",
    "plt.show()"
   ]
  },
  {
   "cell_type": "markdown",
   "metadata": {},
   "source": [
    "as we can see it is hard to say that also childs are resqued firstly. "
   ]
  },
  {
   "cell_type": "markdown",
   "metadata": {
    "nbpresent": {
     "id": "88f9775e-60ca-4632-a987-6985980d16ee"
    }
   },
   "source": [
    "###     \n",
    "### Embarked might be another factor"
   ]
  },
  {
   "cell_type": "code",
   "execution_count": 15,
   "metadata": {
    "collapsed": false,
    "nbpresent": {
     "id": "096b2ef5-83ce-4641-a2de-5d58623d9ad3"
    }
   },
   "outputs": [
    {
     "data": {
      "text/html": [
       "<div>\n",
       "<table border=\"1\" class=\"dataframe\">\n",
       "  <thead>\n",
       "    <tr style=\"text-align: right;\">\n",
       "      <th></th>\n",
       "      <th>Survived</th>\n",
       "      <th>0</th>\n",
       "      <th>1</th>\n",
       "    </tr>\n",
       "    <tr>\n",
       "      <th>Embarked</th>\n",
       "      <th>Pclass</th>\n",
       "      <th></th>\n",
       "      <th></th>\n",
       "    </tr>\n",
       "  </thead>\n",
       "  <tbody>\n",
       "    <tr>\n",
       "      <th rowspan=\"3\" valign=\"top\">C</th>\n",
       "      <th>1</th>\n",
       "      <td>21</td>\n",
       "      <td>53</td>\n",
       "    </tr>\n",
       "    <tr>\n",
       "      <th>2</th>\n",
       "      <td>7</td>\n",
       "      <td>8</td>\n",
       "    </tr>\n",
       "    <tr>\n",
       "      <th>3</th>\n",
       "      <td>23</td>\n",
       "      <td>18</td>\n",
       "    </tr>\n",
       "    <tr>\n",
       "      <th rowspan=\"3\" valign=\"top\">Q</th>\n",
       "      <th>1</th>\n",
       "      <td>1</td>\n",
       "      <td>1</td>\n",
       "    </tr>\n",
       "    <tr>\n",
       "      <th>2</th>\n",
       "      <td>1</td>\n",
       "      <td>1</td>\n",
       "    </tr>\n",
       "    <tr>\n",
       "      <th>3</th>\n",
       "      <td>18</td>\n",
       "      <td>6</td>\n",
       "    </tr>\n",
       "    <tr>\n",
       "      <th rowspan=\"3\" valign=\"top\">S</th>\n",
       "      <th>1</th>\n",
       "      <td>42</td>\n",
       "      <td>66</td>\n",
       "    </tr>\n",
       "    <tr>\n",
       "      <th>2</th>\n",
       "      <td>82</td>\n",
       "      <td>74</td>\n",
       "    </tr>\n",
       "    <tr>\n",
       "      <th>3</th>\n",
       "      <td>229</td>\n",
       "      <td>61</td>\n",
       "    </tr>\n",
       "  </tbody>\n",
       "</table>\n",
       "</div>"
      ],
      "text/plain": [
       "Survived           0   1\n",
       "Embarked Pclass         \n",
       "C        1        21  53\n",
       "         2         7   8\n",
       "         3        23  18\n",
       "Q        1         1   1\n",
       "         2         1   1\n",
       "         3        18   6\n",
       "S        1        42  66\n",
       "         2        82  74\n",
       "         3       229  61"
      ]
     },
     "execution_count": 15,
     "metadata": {},
     "output_type": "execute_result"
    }
   ],
   "source": [
    "df2 = df.groupby(['Embarked','Survived', 'Pclass'])['PassengerId'].count().unstack('Survived').fillna(0)\n",
    "df2"
   ]
  },
  {
   "cell_type": "code",
   "execution_count": 16,
   "metadata": {
    "collapsed": false,
    "nbpresent": {
     "id": "5eea11ec-9d6a-4005-b8ab-463723b71f41"
    }
   },
   "outputs": [
    {
     "data": {
      "image/png": "[encoded data removed]",
      "text/plain": [
       "<matplotlib.figure.Figure at 0x210e33954e0>"
      ]
     },
     "metadata": {},
     "output_type": "display_data"
    }
   ],
   "source": [
    "df2[[0, 1]].plot(kind='bar', stacked=False)\n",
    "plt.show()"
   ]
  },
  {
   "cell_type": "markdown",
   "metadata": {},
   "source": [
    "this chart show us in first and second classes people more likely to be alive :D"
   ]
  },
  {
   "cell_type": "markdown",
   "metadata": {
    "nbpresent": {
     "id": "bd4b94ee-3559-4814-b285-e967b248d603"
    }
   },
   "source": [
    "### cabin and survive relation"
   ]
  },
  {
   "cell_type": "code",
   "execution_count": 17,
   "metadata": {
    "collapsed": false,
    "nbpresent": {
     "id": "38ed911b-749d-402d-a008-d5fd9f387c46"
    }
   },
   "outputs": [],
   "source": [
    "cabin_survive=df.groupby(['Cabin', 'Survived'])['PassengerId'].count().unstack('Cabin')"
   ]
  },
  {
   "cell_type": "code",
   "execution_count": 18,
   "metadata": {
    "collapsed": false,
    "nbpresent": {
     "id": "f85af21b-596f-482c-a09e-c73c500cef7c"
    }
   },
   "outputs": [
    {
     "data": {
      "text/plain": [
       "Embarked  Pclass\n",
       "C         1         56.923077\n",
       "          2         11.538462\n",
       "          3         31.538462\n",
       "Q         1          7.142857\n",
       "          2          7.142857\n",
       "          3         85.714286\n",
       "S         1         19.494585\n",
       "          2         28.158845\n",
       "          3         52.346570\n",
       "dtype: float64"
      ]
     },
     "execution_count": 18,
     "metadata": {},
     "output_type": "execute_result"
    }
   ],
   "source": [
    "total_per_embarkation_port = df.groupby('Embarked').size()\n",
    "port_class_groups = df.groupby(['Embarked','Pclass'], as_index=False).size()*100 / total_per_embarkation_port\n",
    "port_class_groups"
   ]
  },
  {
   "cell_type": "markdown",
   "metadata": {},
   "source": [
    "### I also want to check if there is or not any relation between fare and age"
   ]
  },
  {
   "cell_type": "code",
   "execution_count": 26,
   "metadata": {
    "collapsed": true
   },
   "outputs": [],
   "source": [
    "def correlation(x,y):\n",
    "    std_x=(x-x.mean())/x.std(ddof=0)\n",
    "    std_y=(y-y.mean())/y.std(ddof=0)\n",
    "    return (std_x*std_y).mean()"
   ]
  },
  {
   "cell_type": "code",
   "execution_count": 27,
   "metadata": {
    "collapsed": false
   },
   "outputs": [],
   "source": [
    "tdf=titanic_df.dropna(subset=['Age'])"
   ]
  },
  {
   "cell_type": "code",
   "execution_count": 28,
   "metadata": {
    "collapsed": false
   },
   "outputs": [
    {
     "data": {
      "text/plain": [
       "0.09606669176903883"
      ]
     },
     "execution_count": 28,
     "metadata": {},
     "output_type": "execute_result"
    }
   ],
   "source": [
    "correlation(tdf['Age'],tdf['Fare'])"
   ]
  },
  {
   "cell_type": "markdown",
   "metadata": {},
   "source": [
    "the value is positive this show us two veriable is has relation between them but number is small so relation is not stong."
   ]
  },
  {
   "cell_type": "markdown",
   "metadata": {},
   "source": [
    "# Summary\n",
    "\n",
    "according to all calculation to survive the titanic;\n",
    "<l1> famale people were put on lifeboats first\n",
    "<l1> wealthy people were put on lifeboats first\n",
    "\n",
    "\n",
    "also we prove that more people age more likely to pay more fare \n",
    "\n"
   ]
  },
  {
   "cell_type": "code",
   "execution_count": null,
   "metadata": {
    "collapsed": true
   },
   "outputs": [],
   "source": []
  }
 ],
 "metadata": {
  "anaconda-cloud": {},
  "kernelspec": {
   "display_name": "Python [conda root]",
   "language": "python",
   "name": "conda-root-py"
  },
  "language_info": {
   "codemirror_mode": {
    "name": "ipython",
    "version": 3
   },
   "file_extension": ".py",
   "mimetype": "text/x-python",
   "name": "python",
   "nbconvert_exporter": "python",
   "pygments_lexer": "ipython3",
   "version": "3.5.2"
  },
  "nbpresent": {
   "slides": {
    "03c86ba5-cd26-450d-b8d9-8c79e8a49cfb": {
     "id": "03c86ba5-cd26-450d-b8d9-8c79e8a49cfb",
     "prev": "582d3a0e-2cd3-450a-ac4d-90230a607728",
     "regions": {
      "151f9e2a-6c24-4832-8a27-9df6fbffac2c": {
       "attrs": {
        "height": 0.8,
        "width": 0.8,
        "x": 0.1,
        "y": 0.1
       },
       "content": {
        "cell": "5eab7809-edea-43b6-acbc-52a2b8ae9b3e",
        "part": "whole"
       },
       "id": "151f9e2a-6c24-4832-8a27-9df6fbffac2c"
      }
     }
    },
    "1a6b7654-ca8f-4381-beb3-c8f0ad4cba15": {
     "id": "1a6b7654-ca8f-4381-beb3-c8f0ad4cba15",
     "prev": "c37f3c46-d64b-4b39-8c56-08fb175ebe9d",
     "regions": {
      "f96b76dd-fc8c-4c99-b01e-b09800d7d493": {
       "attrs": {
        "height": 0.8,
        "width": 0.8,
        "x": 0.1,
        "y": 0.1
       },
       "content": {
        "cell": "89160df9-fd84-48e6-80e0-57f3c57eb7ea",
        "part": "whole"
       },
       "id": "f96b76dd-fc8c-4c99-b01e-b09800d7d493"
      }
     }
    },
    "1d6c6adf-a1be-4039-8570-1320fddc24e9": {
     "id": "1d6c6adf-a1be-4039-8570-1320fddc24e9",
     "prev": "ecc32ee2-a5bc-4cbd-9597-8f99dcf6f22d",
     "regions": {
      "54f3ee5e-41d7-4d61-8ff7-f1a36c633841": {
       "attrs": {
        "height": 0.8,
        "width": 0.8,
        "x": 0.1,
        "y": 0.1
       },
       "content": {
        "cell": "200c48ad-e55f-430b-bdcf-6f94018cf9f9",
        "part": "whole"
       },
       "id": "54f3ee5e-41d7-4d61-8ff7-f1a36c633841"
      }
     }
    },
    "2e7870d2-632a-4073-92de-3277eb1fc65b": {
     "id": "2e7870d2-632a-4073-92de-3277eb1fc65b",
     "prev": "b8cb188f-b745-4f3d-b475-2b8addaf8dbf",
     "regions": {
      "d7043561-d28b-47df-b4c1-f482257f455c": {
       "attrs": {
        "height": 0.8,
        "width": 0.8,
        "x": 0.1,
        "y": 0.1
       },
       "content": {
        "cell": "49b97b83-f794-4f25-a326-810adddcd790",
        "part": "whole"
       },
       "id": "d7043561-d28b-47df-b4c1-f482257f455c"
      }
     }
    },
    "32aa8a66-7a1b-466e-9e97-5dd7fd0678b0": {
     "id": "32aa8a66-7a1b-466e-9e97-5dd7fd0678b0",
     "prev": "61e92120-ef03-486a-9607-640f78ee56f6",
     "regions": {
      "c4bf2ef1-a86c-4e77-a267-fb8398a8b335": {
       "attrs": {
        "height": 0.8,
        "width": 0.8,
        "x": 0.1,
        "y": 0.1
       },
       "content": {
        "cell": "f07d234c-87f5-4c91-bb55-470bfbfcffff",
        "part": "whole"
       },
       "id": "c4bf2ef1-a86c-4e77-a267-fb8398a8b335"
      }
     }
    },
    "3d62348b-3912-4f79-b7ff-cd6cfa3c0c0a": {
     "id": "3d62348b-3912-4f79-b7ff-cd6cfa3c0c0a",
     "prev": "86b126a9-aaf9-4020-9004-d4faec45ec97",
     "regions": {
      "cc6e17ab-cca6-44de-affc-3067b51a78c3": {
       "attrs": {
        "height": 0.8,
        "width": 0.8,
        "x": 0.1,
        "y": 0.1
       },
       "content": {
        "cell": "38ed911b-749d-402d-a008-d5fd9f387c46",
        "part": "whole"
       },
       "id": "cc6e17ab-cca6-44de-affc-3067b51a78c3"
      }
     }
    },
    "4d732f3f-525a-40cb-a201-a0f6ef736183": {
     "id": "4d732f3f-525a-40cb-a201-a0f6ef736183",
     "prev": "d751e962-2c6a-4a6d-a39c-036c0367963e",
     "regions": {
      "aa0a5b53-3bbc-4186-9bd6-2e8df4b38b42": {
       "attrs": {
        "height": 0.8,
        "width": 0.8,
        "x": 0.1,
        "y": 0.1
       },
       "content": {
        "cell": "bf0cedbf-9c90-44f9-b35b-0246996f702e",
        "part": "whole"
       },
       "id": "aa0a5b53-3bbc-4186-9bd6-2e8df4b38b42"
      }
     }
    },
    "4de41c53-4574-4de6-bcdc-30e2e38a45f3": {
     "id": "4de41c53-4574-4de6-bcdc-30e2e38a45f3",
     "prev": "d5d364eb-cc6e-4781-ab33-32566bd5cabc",
     "regions": {
      "479e759c-b27d-4a6b-9b5d-ef0fb5f6df7b": {
       "attrs": {
        "height": 0.8,
        "width": 0.8,
        "x": 0.1,
        "y": 0.1
       },
       "content": {
        "cell": "096b2ef5-83ce-4641-a2de-5d58623d9ad3",
        "part": "whole"
       },
       "id": "479e759c-b27d-4a6b-9b5d-ef0fb5f6df7b"
      }
     }
    },
    "5535509b-d4f8-4333-8b93-cb8cf3fef696": {
     "id": "5535509b-d4f8-4333-8b93-cb8cf3fef696",
     "prev": "32aa8a66-7a1b-466e-9e97-5dd7fd0678b0",
     "regions": {
      "a24a6171-bed6-49ec-ae29-5ad46158dc99": {
       "attrs": {
        "height": 0.8,
        "width": 0.8,
        "x": 0.1,
        "y": 0.1
       },
       "content": {
        "cell": "33fcbf29-a9e6-4ba7-abc7-c5a2ec35bf8c",
        "part": "whole"
       },
       "id": "a24a6171-bed6-49ec-ae29-5ad46158dc99"
      }
     }
    },
    "582d3a0e-2cd3-450a-ac4d-90230a607728": {
     "id": "582d3a0e-2cd3-450a-ac4d-90230a607728",
     "prev": "ec3337e9-8d6b-41fa-8dbd-ad155f127432",
     "regions": {
      "f808ba8b-d345-4368-b88f-3ee713abdf40": {
       "attrs": {
        "height": 0.8,
        "width": 0.8,
        "x": 0.1,
        "y": 0.1
       },
       "content": {
        "cell": "a0407b97-32f0-4602-b85d-ee4013961b7a",
        "part": "whole"
       },
       "id": "f808ba8b-d345-4368-b88f-3ee713abdf40"
      }
     }
    },
    "597a637c-2ece-4c3f-bfcb-a82b08856ebf": {
     "id": "597a637c-2ece-4c3f-bfcb-a82b08856ebf",
     "prev": "df4a5296-1d3e-4068-a7a7-c2fc5e5ea1b6",
     "regions": {
      "ae166e80-bcbe-4ba4-84d8-6fc64fb1175b": {
       "attrs": {
        "height": 0.8,
        "width": 0.8,
        "x": 0.1,
        "y": 0.1
       },
       "content": {
        "cell": "0128e60b-98f6-4ff3-9997-92a86cffb922",
        "part": "whole"
       },
       "id": "ae166e80-bcbe-4ba4-84d8-6fc64fb1175b"
      }
     }
    },
    "61e92120-ef03-486a-9607-640f78ee56f6": {
     "id": "61e92120-ef03-486a-9607-640f78ee56f6",
     "prev": "ff0edecd-5800-46d4-87bb-9042f23fc741",
     "regions": {
      "2cd976f3-74fd-4fe2-8fa9-1ed416566d40": {
       "attrs": {
        "height": 0.8,
        "width": 0.8,
        "x": 0.1,
        "y": 0.1
       },
       "content": {
        "cell": "933a9918-1b7b-404d-9135-9ee81185f7fd",
        "part": "whole"
       },
       "id": "2cd976f3-74fd-4fe2-8fa9-1ed416566d40"
      }
     }
    },
    "67264466-b47f-4b3a-8ebe-faccf605eb38": {
     "id": "67264466-b47f-4b3a-8ebe-faccf605eb38",
     "prev": "03c86ba5-cd26-450d-b8d9-8c79e8a49cfb",
     "regions": {
      "a7629fe0-f169-44c3-a31d-cab55bd2d24a": {
       "attrs": {
        "height": 0.8,
        "width": 0.8,
        "x": 0.1,
        "y": 0.1
       },
       "content": {
        "cell": "62bc817a-a9cf-46e5-9c60-66922bd28e7a",
        "part": "whole"
       },
       "id": "a7629fe0-f169-44c3-a31d-cab55bd2d24a"
      }
     }
    },
    "763f0efb-5eeb-4d78-a415-feb9d9660add": {
     "id": "763f0efb-5eeb-4d78-a415-feb9d9660add",
     "prev": "db5766a2-a20b-4158-b65e-c7fecb9c07fc",
     "regions": {
      "ebcb405e-7ef4-4524-929b-762b350aa3fe": {
       "attrs": {
        "height": 0.8,
        "width": 0.8,
        "x": 0.1,
        "y": 0.1
       },
       "content": {
        "cell": "268e7676-31c8-4861-b518-4bf902c5986b",
        "part": "whole"
       },
       "id": "ebcb405e-7ef4-4524-929b-762b350aa3fe"
      }
     }
    },
    "86b126a9-aaf9-4020-9004-d4faec45ec97": {
     "id": "86b126a9-aaf9-4020-9004-d4faec45ec97",
     "prev": "2e7870d2-632a-4073-92de-3277eb1fc65b",
     "regions": {
      "2004fcca-effb-4f1b-8150-3ebacfcda1d4": {
       "attrs": {
        "height": 0.8,
        "width": 0.8,
        "x": 0.1,
        "y": 0.1
       },
       "content": {
        "cell": "bd4b94ee-3559-4814-b285-e967b248d603",
        "part": "whole"
       },
       "id": "2004fcca-effb-4f1b-8150-3ebacfcda1d4"
      }
     }
    },
    "9641d011-82aa-4ed7-b2c1-f6f2c5aa7d39": {
     "id": "9641d011-82aa-4ed7-b2c1-f6f2c5aa7d39",
     "prev": null,
     "regions": {
      "99b5007f-9ef9-4c9a-91fe-31fa96558f6d": {
       "attrs": {
        "height": 0.8000000000000002,
        "width": 0.8,
        "x": 0.09245529061102822,
        "y": 0.0642324888226528
       },
       "content": {
        "cell": "005b099c-4b4c-4fdb-9ff7-2ef9252e0e4c",
        "part": "whole"
       },
       "id": "99b5007f-9ef9-4c9a-91fe-31fa96558f6d"
      }
     }
    },
    "a9ee99b0-e4e3-4061-91b2-0441d5a028b8": {
     "id": "a9ee99b0-e4e3-4061-91b2-0441d5a028b8",
     "prev": "597a637c-2ece-4c3f-bfcb-a82b08856ebf",
     "regions": {
      "77ece4ea-676e-4e43-b7d6-f3735811baf7": {
       "attrs": {
        "height": 0.8,
        "width": 0.8,
        "x": 0.1,
        "y": 0.1
       },
       "content": {
        "cell": "aa616ab4-eb9c-4127-87ac-7112747c087b",
        "part": "whole"
       },
       "id": "77ece4ea-676e-4e43-b7d6-f3735811baf7"
      }
     }
    },
    "b8cb188f-b745-4f3d-b475-2b8addaf8dbf": {
     "id": "b8cb188f-b745-4f3d-b475-2b8addaf8dbf",
     "prev": "4de41c53-4574-4de6-bcdc-30e2e38a45f3",
     "regions": {
      "e8aa1b42-b722-47ad-8b4e-08353bd87277": {
       "attrs": {
        "height": 0.8,
        "width": 0.8,
        "x": 0.1,
        "y": 0.1
       },
       "content": {
        "cell": "5eea11ec-9d6a-4005-b8ab-463723b71f41",
        "part": "whole"
       },
       "id": "e8aa1b42-b722-47ad-8b4e-08353bd87277"
      }
     }
    },
    "c32553f7-7a0d-4628-8828-593ac2d9a831": {
     "id": "c32553f7-7a0d-4628-8828-593ac2d9a831",
     "prev": "67264466-b47f-4b3a-8ebe-faccf605eb38",
     "regions": {
      "9cf5ab5e-d63f-4d94-8a90-7b09537a497c": {
       "attrs": {
        "height": 0.8,
        "width": 0.8,
        "x": 0.1,
        "y": 0.1
       },
       "content": {
        "cell": "acf18558-2d7b-4fd4-8854-766cd65fec07",
        "part": "whole"
       },
       "id": "9cf5ab5e-d63f-4d94-8a90-7b09537a497c"
      }
     }
    },
    "c37f3c46-d64b-4b39-8c56-08fb175ebe9d": {
     "id": "c37f3c46-d64b-4b39-8c56-08fb175ebe9d",
     "prev": "e9b24599-9af3-4c0a-97f3-d77d9f0d4f7e",
     "regions": {
      "29d1f85c-b5fd-45b6-bafd-f7754b4a0714": {
       "attrs": {
        "height": 0.8,
        "width": 0.8,
        "x": 0.1,
        "y": 0.1
       },
       "content": {
        "cell": "68030ec0-9207-4e5e-a51d-ea939a68ff62",
        "part": "whole"
       },
       "id": "29d1f85c-b5fd-45b6-bafd-f7754b4a0714"
      }
     }
    },
    "c51cfeae-3efe-4018-bdb0-506e51a03abc": {
     "id": "c51cfeae-3efe-4018-bdb0-506e51a03abc",
     "prev": "c5d861f0-a195-47b3-8d1d-05d7d94110ce",
     "regions": {
      "715d4f0f-aa26-470a-8007-863699e6fc6a": {
       "attrs": {
        "height": 0.8,
        "width": 0.8,
        "x": 0.1,
        "y": 0.1
       },
       "content": {
        "cell": "8f5fc3db-3d64-408e-8fec-c2ac560e0382",
        "part": "whole"
       },
       "id": "715d4f0f-aa26-470a-8007-863699e6fc6a"
      }
     }
    },
    "c5d861f0-a195-47b3-8d1d-05d7d94110ce": {
     "id": "c5d861f0-a195-47b3-8d1d-05d7d94110ce",
     "prev": "763f0efb-5eeb-4d78-a415-feb9d9660add",
     "regions": {
      "33199708-7bca-4550-9e68-80f6c5070617": {
       "attrs": {
        "height": 0.8,
        "width": 0.8,
        "x": 0.1,
        "y": 0.1
       },
       "content": {
        "cell": "a1e492b7-871c-499a-8e8f-b0b278a9aba9",
        "part": "whole"
       },
       "id": "33199708-7bca-4550-9e68-80f6c5070617"
      }
     }
    },
    "d5d364eb-cc6e-4781-ab33-32566bd5cabc": {
     "id": "d5d364eb-cc6e-4781-ab33-32566bd5cabc",
     "prev": "c32553f7-7a0d-4628-8828-593ac2d9a831",
     "regions": {
      "859058fc-24d5-4c3f-ab1b-a473820dda2e": {
       "attrs": {
        "height": 0.8,
        "width": 0.8,
        "x": 0.1,
        "y": 0.1
       },
       "content": {
        "cell": "88f9775e-60ca-4632-a987-6985980d16ee",
        "part": "whole"
       },
       "id": "859058fc-24d5-4c3f-ab1b-a473820dda2e"
      }
     }
    },
    "d751e962-2c6a-4a6d-a39c-036c0367963e": {
     "id": "d751e962-2c6a-4a6d-a39c-036c0367963e",
     "prev": "1d6c6adf-a1be-4039-8570-1320fddc24e9",
     "regions": {
      "25386a5a-fe24-4209-8835-4be89687cc5e": {
       "attrs": {
        "height": 0.8,
        "width": 0.8,
        "x": 0.1,
        "y": 0.1
       },
       "content": {
        "cell": "133314d3-ae5b-4cb9-86be-dfab78d88941",
        "part": "whole"
       },
       "id": "25386a5a-fe24-4209-8835-4be89687cc5e"
      }
     }
    },
    "db5766a2-a20b-4158-b65e-c7fecb9c07fc": {
     "id": "db5766a2-a20b-4158-b65e-c7fecb9c07fc",
     "prev": "f1dcd648-d914-43ae-8d7d-f8e850c24e5e",
     "regions": {
      "4eefc659-0075-42af-a86e-4d469e600a5f": {
       "attrs": {
        "height": 0.8,
        "width": 0.8,
        "x": 0.1,
        "y": 0.1
       },
       "content": {
        "cell": "0d2b1c10-a548-4f31-a385-f501d4278e64",
        "part": "whole"
       },
       "id": "4eefc659-0075-42af-a86e-4d469e600a5f"
      }
     }
    },
    "df4a5296-1d3e-4068-a7a7-c2fc5e5ea1b6": {
     "id": "df4a5296-1d3e-4068-a7a7-c2fc5e5ea1b6",
     "prev": "3d62348b-3912-4f79-b7ff-cd6cfa3c0c0a",
     "regions": {
      "f350ef8f-f50d-4469-a971-5383f4622c17": {
       "attrs": {
        "height": 0.8,
        "width": 0.8,
        "x": 0.1,
        "y": 0.1
       },
       "content": {
        "cell": "f85af21b-596f-482c-a09e-c73c500cef7c",
        "part": "whole"
       },
       "id": "f350ef8f-f50d-4469-a971-5383f4622c17"
      }
     }
    },
    "e757ff49-a729-4c43-ad10-468094cc998c": {
     "id": "e757ff49-a729-4c43-ad10-468094cc998c",
     "prev": "c51cfeae-3efe-4018-bdb0-506e51a03abc",
     "regions": {
      "9016bfc7-2d0b-454c-9ee9-2acbbb231891": {
       "attrs": {
        "height": 0.8,
        "width": 0.8,
        "x": 0.1,
        "y": 0.1
       },
       "content": {
        "cell": "5f1bd98a-e135-46d6-8325-18919b353d5b",
        "part": "whole"
       },
       "id": "9016bfc7-2d0b-454c-9ee9-2acbbb231891"
      }
     }
    },
    "e9b24599-9af3-4c0a-97f3-d77d9f0d4f7e": {
     "id": "e9b24599-9af3-4c0a-97f3-d77d9f0d4f7e",
     "prev": "e757ff49-a729-4c43-ad10-468094cc998c",
     "regions": {
      "cbd08ef8-99be-472b-9bde-c7301b9fcfc6": {
       "attrs": {
        "height": 0.8,
        "width": 0.8,
        "x": 0.1,
        "y": 0.1
       },
       "content": {
        "cell": "edd84256-3ecf-4391-acb3-8339df1f47c1",
        "part": "whole"
       },
       "id": "cbd08ef8-99be-472b-9bde-c7301b9fcfc6"
      }
     }
    },
    "ec3337e9-8d6b-41fa-8dbd-ad155f127432": {
     "id": "ec3337e9-8d6b-41fa-8dbd-ad155f127432",
     "prev": "5535509b-d4f8-4333-8b93-cb8cf3fef696",
     "regions": {
      "eb3b7eb9-3f2a-4894-96dd-6b9a13e0cb82": {
       "attrs": {
        "height": 0.8,
        "width": 0.8,
        "x": 0.1,
        "y": 0.1
       },
       "content": {
        "cell": "7f91eaf1-d30a-4e7d-b6de-68d5c4088dd4",
        "part": "whole"
       },
       "id": "eb3b7eb9-3f2a-4894-96dd-6b9a13e0cb82"
      }
     }
    },
    "ecc32ee2-a5bc-4cbd-9597-8f99dcf6f22d": {
     "id": "ecc32ee2-a5bc-4cbd-9597-8f99dcf6f22d",
     "prev": "a9ee99b0-e4e3-4061-91b2-0441d5a028b8",
     "regions": {
      "9a7d6345-52b6-43ee-8ec9-a5edb86921ba": {
       "attrs": {
        "height": 0.8,
        "width": 0.8,
        "x": 0.1,
        "y": 0.1
       },
       "content": {
        "cell": "9e6a8711-791b-4513-a31d-6ee27ab5f595",
        "part": "whole"
       },
       "id": "9a7d6345-52b6-43ee-8ec9-a5edb86921ba"
      }
     }
    },
    "f1dcd648-d914-43ae-8d7d-f8e850c24e5e": {
     "id": "f1dcd648-d914-43ae-8d7d-f8e850c24e5e",
     "prev": "9641d011-82aa-4ed7-b2c1-f6f2c5aa7d39",
     "regions": {
      "e311dfca-8af0-4de6-b005-8c119e75e576": {
       "attrs": {
        "height": 0.8,
        "width": 0.8,
        "x": 0.1,
        "y": 0.1
       },
       "content": {
        "cell": "fa2b8885-7f6a-48e4-9e91-27cb1e292cc4",
        "part": "whole"
       },
       "id": "e311dfca-8af0-4de6-b005-8c119e75e576"
      }
     }
    },
    "ff0edecd-5800-46d4-87bb-9042f23fc741": {
     "id": "ff0edecd-5800-46d4-87bb-9042f23fc741",
     "prev": "1a6b7654-ca8f-4381-beb3-c8f0ad4cba15",
     "regions": {
      "719db199-bf93-4638-bd92-0a8fd853da9d": {
       "attrs": {
        "height": 0.8,
        "width": 0.8,
        "x": 0.1,
        "y": 0.1
       },
       "content": {
        "cell": "5de30aa1-944c-4a3d-a541-4ca71183e2a2",
        "part": "whole"
       },
       "id": "719db199-bf93-4638-bd92-0a8fd853da9d"
      }
     }
    }
   },
   "themes": {}
  }
 },
 "nbformat": 4,
 "nbformat_minor": 1
}
